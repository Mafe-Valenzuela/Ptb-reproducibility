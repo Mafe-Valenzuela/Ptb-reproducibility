{
 "cells": [
  {
   "cell_type": "code",
   "execution_count": null,
   "id": "14195e04-059e-473c-919f-8926399b46a1",
   "metadata": {},
   "outputs": [],
   "source": [
    "import os\n",
    "import numpy as np\n",
    "from PIL import Image\n",
    "import tensorflow as tf\n",
    "from tensorflow.keras.models import load_model"
   ]
  },
  {
   "cell_type": "code",
   "execution_count": null,
   "id": "0af93245-8f3d-439a-8cd5-adcff240e220",
   "metadata": {},
   "outputs": [],
   "source": [
    "def load_data(image_dir, mask_dir, calipers_dir, img_size=(176, 320)):\n",
    "    \n",
    "    images, masks, calipers = [], [], []\n",
    "    \n",
    "    # Get filenames\n",
    "    image_files = {os.path.splitext(f)[0]: f for f in os.listdir(image_dir)}\n",
    "    mask_files = {os.path.splitext(f)[0]: f for f in os.listdir(mask_dir)}\n",
    "    caliper_files = {os.path.splitext(f)[0]: f for f in os.listdir(calipers_dir)}\n",
    "    \n",
    "    # Find common filenames in all folders\n",
    "    common_keys = set(image_files.keys()) & set(mask_files.keys()) & set(caliper_files.keys())\n",
    "    \n",
    "    for key in sorted(common_keys):\n",
    "        img_path = os.path.join(image_dir, image_files[key])\n",
    "        mask_path = os.path.join(mask_dir, mask_files[key])\n",
    "        caliper_path = os.path.join(calipers_dir, caliper_files[key])\n",
    "        \n",
    "        try:\n",
    "            # Load image and mask in grayscale\n",
    "            img = Image.open(img_path).convert(\"L\")\n",
    "            mask = Image.open(mask_path).convert(\"L\")\n",
    "            img = img.resize(img_size)\n",
    "            mask = mask.resize(img_size)\n",
    "            \n",
    "            # Convert to normalized arrays\n",
    "            img = np.array(img) / 255.0\n",
    "            mask = np.array(mask) / 255.0\n",
    "        except Exception as e:\n",
    "            print(f\"Error loading {key}: {e}\")\n",
    "            continue\n",
    "        \n",
    "        # Load caliper coordinates\n",
    "        try:\n",
    "            caliper = np.load(caliper_path)\n",
    "        except Exception as e:\n",
    "            print(f\"Error loading caliper {key}: {e}\")\n",
    "            continue\n",
    "\n",
    "        # Store processed data\n",
    "        images.append(img)\n",
    "        masks.append(mask)\n",
    "        \n",
    "        # Convert to 1D\n",
    "        calipers.append(caliper.flatten()) \n",
    "    \n",
    "    # Convert lists to NumPy arrays and reshape accordingly\n",
    "    images = np.array(images).reshape(-1, img_size[0], img_size[1], 1)\n",
    "    masks = np.array(masks).reshape(-1, img_size[0], img_size[1], 1)\n",
    "    \n",
    "    # Concatenate image and mask into a single tensor\n",
    "    inputs = np.concatenate([images, masks], axis=-1)  \n",
    "    calipers = np.array(calipers)\n",
    "    \n",
    "    return inputs, calipers"
   ]
  },
  {
   "cell_type": "code",
   "execution_count": null,
   "id": "135dee05-d2ab-4657-9748-ee00eb36f302",
   "metadata": {},
   "outputs": [],
   "source": [
    "# Load the model from the .keras file\n",
    "model = load_model(r\"C:\\Users\\Mafe Valenzuela\\Documents\\Cps\\Códigos\\calipers_cnn.keras\")"
   ]
  },
  {
   "cell_type": "code",
   "execution_count": null,
   "id": "d13743e1-e3ee-4f44-ab40-050af84d1fa3",
   "metadata": {},
   "outputs": [],
   "source": [
    "# Computes a confidence interval using the bootstrap resampling method.\n",
    "# Generates multiple bootstrap samples, computes their means, and determines the confidence interval based on percentiles.\n",
    "def bootstrap_ci(data, num_samples=1000, confidence=0.95):\n",
    "\n",
    "    data = np.array(data)\n",
    "    sample_means = []\n",
    "\n",
    "    # Generate bootstrap samples and compute the mean for each sample\n",
    "    for _ in range(num_samples):\n",
    "        sample = np.random.choice(data, size=len(data), replace=True)  # Resampling with replacement\n",
    "        sample_means.append(np.mean(sample))\n",
    "\n",
    "    # Compute percentiles to obtain the confidence interval\n",
    "    lower_bound = np.percentile(sample_means, (1 - confidence) / 2 * 100)\n",
    "    upper_bound = np.percentile(sample_means, (1 + confidence) / 2 * 100)\n",
    "    mean = np.mean(sample_means)\n",
    "\n",
    "    return mean, lower_bound, upper_bound"
   ]
  },
  {
   "cell_type": "code",
   "execution_count": null,
   "id": "5dec8b2b-3f36-4702-a050-f34aa50cf137",
   "metadata": {},
   "outputs": [],
   "source": [
    "def mean_relative_error(y_true, y_pred):\n",
    "    # Compute individual relative errors\n",
    "    mre_values = np.abs((y_true - y_pred) / (y_true + 1e-8)).flatten()\n",
    "    \n",
    "    # Compute MRE and its confidence interval using bootstrap\n",
    "    mean_mre, lower_mre, upper_mre = bootstrap_ci(mre_values)\n",
    "\n",
    "    return mean_mre, lower_mre, upper_mre\n"
   ]
  },
  {
   "cell_type": "code",
   "execution_count": null,
   "id": "425feb1c-3964-414b-b646-c8187436286b",
   "metadata": {},
   "outputs": [],
   "source": [
    "train_image_dir = r\"C:\\Users\\Mafe Valenzuela\\Documents\\Cps\\01\\Segmentación\\test\\images\"\n",
    "train_mask_dir = r\"C:\\Users\\Mafe Valenzuela\\Documents\\Cps\\01\\Segmentación\\test\\masks_generates\"\n",
    "train_calipers_dir= r\"C:\\Users\\Mafe Valenzuela\\Documents\\Cps\\01\\Segmentación\\test\\callipers\"\n",
    "train_inputs, train_calipers = load_data(train_image_dir, train_mask_dir, train_calipers_dir)\n",
    "\n",
    "val_image_dir = r\"C:\\Users\\Mafe Valenzuela\\Documents\\Cps\\01\\Segmentación\\val\\images\"\n",
    "val_mask_dir = r\"C:\\Users\\Mafe Valenzuela\\Documents\\Cps\\01\\Segmentación\\val\\masks_generates\"\n",
    "val_calipers_dir = r\"C:\\Users\\Mafe Valenzuela\\Documents\\Cps\\01\\Segmentación\\val\\callipers\"\n",
    "val_inputs, val_calipers = load_data(val_image_dir, val_mask_dir, val_calipers_dir)\n",
    "\n",
    "test_image_dir = r\"C:\\Users\\Mafe Valenzuela\\Documents\\Cps\\01\\Segmentación\\test\\images\"\n",
    "test_mask_dir = r\"C:\\Users\\Mafe Valenzuela\\Documents\\Cps\\01\\Segmentación\\test\\masks_generates\"\n",
    "test_calipers_dir = r\"C:\\Users\\Mafe Valenzuela\\Documents\\Cps\\01\\Segmentación\\test\\callipers\"\n",
    "test_inputs, test_calipers = load_data(test_image_dir, test_mask_dir, test_calipers_dir)"
   ]
  },
  {
   "cell_type": "code",
   "execution_count": null,
   "id": "53fc54b1-0e0b-49ec-8992-da04b48e449b",
   "metadata": {},
   "outputs": [],
   "source": [
    "import numpy as np\n",
    "\n",
    "def compute_distance_error(original_calipers, predicted_calipers):\n",
    "    # Compute Euclidean distances for original and predicted calipers\n",
    "    original_distances = np.linalg.norm(original_calipers[:, :2] - original_calipers[:, 2:], axis=1)\n",
    "    predicted_distances = np.linalg.norm(predicted_calipers[:, :2] - predicted_calipers[:, 2:], axis=1)\n",
    "\n",
    "    # Compute absolute and relative errors\n",
    "    mae = np.mean(np.abs(original_distances - predicted_distances))\n",
    "    mre = np.mean(np.abs((original_distances - predicted_distances) / (original_distances + 1e-8)))\n",
    "\n",
    "    return mae, mre, original_distances, predicted_distances"
   ]
  },
  {
   "cell_type": "markdown",
   "id": "572fc2a1-cacf-4a5c-906d-b087a8a635b9",
   "metadata": {},
   "source": [
    "*Calculation of results*"
   ]
  },
  {
   "cell_type": "code",
   "execution_count": null,
   "id": "164bcd8f-bcfa-4f5f-b5d0-f359e7c06042",
   "metadata": {},
   "outputs": [],
   "source": [
    "y_pred_train = model.predict(train_inputs)\n",
    "\n",
    "mean_mre_train, lower_mre_train, upper_mre_train = mean_relative_error(train_calipers, y_pred_train)\n",
    "mre_mean_train, mre_lower_train, mre_upper_train = bootstrap_ci(np.abs((original_distances_train - predicted_distances_train) / (original_distances_train + 1e-8)))\n",
    "\n",
    "print(f\"Distance MRE train: {mre_dist_train:.4f} (95% CI: [{mre_lower_train:.4f}, {mre_upper_train:.4f}])\")\n",
    "print(f\"Mean Relative Error Train (MRE) (CI:95%): {mean_mre_train:.4f}  ({lower_mre_train:.4f}, {upper_mre_train:.4f})\")"
   ]
  },
  {
   "cell_type": "code",
   "execution_count": null,
   "id": "e50ac004-c058-4851-bdd8-407854a9bfff",
   "metadata": {},
   "outputs": [],
   "source": [
    "y_pred_val = model.predict(val_inputs)\n",
    "\n",
    "mean_mre_val, lower_mre_val, upper_mre_val = mean_relative_error(val_calipers, y_pred_val)\n",
    "mre_mean_val, mre_lower_val, mre_upper_val = bootstrap_ci(np.abs((original_distances_val - predicted_distances_val) / (original_distances_val + 1e-8)))\n",
    "\n",
    "print(f\"Distance MRE validation: {mre_dist_val:.4f} (95% CI: [{mre_lower_val:.4f}, {mre_upper_val:.4f}])\")\n",
    "print(f\"Mean Relative Error Validation (MRE) (CI:95%): {mean_mre_val:.4f}  ({lower_mre_val:.4f}, {upper_mre_val:.4f})\")"
   ]
  },
  {
   "cell_type": "code",
   "execution_count": null,
   "id": "e1b5728d-c5ef-4ad2-91cf-509a907bf18e",
   "metadata": {},
   "outputs": [],
   "source": [
    "y_pred_test = model.predict(test_inputs)\n",
    "\n",
    "mean_mre_test, lower_mre_test, upper_mre_test = mean_relative_error(test_calipers, y_pred_test)\n",
    "mre_mean_test, mre_lower_test, mre_upper_test = bootstrap_ci(np.abs((original_distances_test - predicted_distances_test) / (original_distances_test + 1e-8)))\n",
    "\n",
    "print(f\"Distance MRE test: {mre_dist_test:.4f} (95% CI: [{mre_lower_test:.4f}, {mre_upper_test:.4f}])\")\n",
    "print(f\"Mean Relative Error Test (MRE) (CI:95%): {mean_mre_test:.4f}  ({lower_mre_test:.4f}, {upper_mre_test:.4f})\")"
   ]
  },
  {
   "cell_type": "code",
   "execution_count": null,
   "id": "f2019dca-da00-400e-be5c-4e1d3326098b",
   "metadata": {},
   "outputs": [],
   "source": [
    "import matplotlib.pyplot as plt\n",
    "import matplotlib.image as mpimg\n",
    "\n",
    "def visualize_calipers(image, true_calipers, pred_calipers):\n",
    "    plt.figure(figsize=(6, 4))\n",
    "    plt.imshow(image, cmap='gray')  # Mostrar solo la imagen en escala de grises\n",
    "\n",
    "    # Dibujar los calipers reales (azul)\n",
    "    plt.plot([true_calipers[0], true_calipers[2]], \n",
    "             [true_calipers[1], true_calipers[3]], \n",
    "             'bo-', label=\"Calipers Reales\")\n",
    "\n",
    "    # Dibujar los calipers predichos (rojo)\n",
    "    plt.plot([pred_calipers[0], pred_calipers[2]], \n",
    "             [pred_calipers[1], pred_calipers[3]], \n",
    "             'ro-', label=\"Calipers Predichos\")\n",
    "\n",
    "    plt.legend()\n",
    "    plt.title(\"Comparación de Calipers\")\n",
    "    plt.show()\n",
    "\n",
    "# Seleccionar una imagen de validación\n",
    "idx = 2  # Cambia este valor para probar diferentes imágenes\n",
    "\n",
    "image_path = r\"C:\\Users\\Mafe Valenzuela\\Documents\\Cps\\01\\Segmentación\\val\\images\\2.png\"  \n",
    "image = mpimg.imread(image_path)  # Cargar la imagen correctamente\n",
    "\n",
    "true_calipers = val_calipers[idx]  # Calipers reales\n",
    "pred_calipers = model.predict(val_inputs[idx:idx+1])[0]  # Predicción del modelo\n",
    "\n",
    "# Visualizar los calipers\n",
    "visualize_calipers(image, true_calipers, pred_calipers)\n"
   ]
  },
  {
   "cell_type": "code",
   "execution_count": null,
   "id": "10058c60-98ab-4fa3-ae60-91b122c44bb3",
   "metadata": {},
   "outputs": [],
   "source": []
  }
 ],
 "metadata": {
  "kernelspec": {
   "display_name": "Python 3 (ipykernel)",
   "language": "python",
   "name": "python3"
  },
  "language_info": {
   "codemirror_mode": {
    "name": "ipython",
    "version": 3
   },
   "file_extension": ".py",
   "mimetype": "text/x-python",
   "name": "python",
   "nbconvert_exporter": "python",
   "pygments_lexer": "ipython3",
   "version": "3.12.7"
  }
 },
 "nbformat": 4,
 "nbformat_minor": 5
}
