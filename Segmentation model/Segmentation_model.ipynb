{
 "cells": [
  {
   "cell_type": "code",
   "execution_count": 1,
   "id": "483ba417-509f-4758-938d-84e6c31b3c41",
   "metadata": {},
   "outputs": [],
   "source": [
    "import keras\n",
    "from keras import layers\n",
    "from keras import initializers\n",
    "import matplotlib.pyplot as plt\n",
    "import numpy as np\n",
    "import os\n",
    "import tensorflow as tf\n",
    "from tensorflow.keras.preprocessing.image import load_img, img_to_array\n",
    "from sklearn.model_selection import train_test_split\n",
    "from tensorflow.keras import Model\n",
    "from sklearn.metrics import jaccard_score\n",
    "from tensorflow.keras.optimizers import Adam\n",
    "from tensorflow.keras.callbacks import EarlyStopping\n",
    "from tensorflow.keras.utils import Sequence"
   ]
  },
  {
   "cell_type": "code",
   "execution_count": 2,
   "id": "3b7acc1a-9830-41c5-8e7e-68ee9d420627",
   "metadata": {},
   "outputs": [],
   "source": [
    "#Definition of image dimensions and batch size.\n",
    "IMG_HEIGHT, IMG_WIDTH = 176, 320\n",
    "BATCH_SIZE = 8"
   ]
  },
  {
   "cell_type": "code",
   "execution_count": 3,
   "id": "bd2d502a-d0a8-4fb2-ac48-1f6fd26c1f92",
   "metadata": {},
   "outputs": [],
   "source": [
    "class DataGenerator(Sequence):\n",
    "    \n",
    "    # Initialize the generator and sort files.\n",
    "    def __init__(self, base_path, batch_size, img_size):\n",
    "        self.image_folder = os.path.join(base_path, \"images\")  \n",
    "        self.mask_folder = os.path.join(base_path, \"masks\")  \n",
    "        self.batch_size = batch_size  \n",
    "        self.img_size = img_size  \n",
    "        self.image_filenames = sorted(os.listdir(self.image_folder))  \n",
    "    \n",
    "    # Compute the number of batches per epoch.\n",
    "    def __len__(self):\n",
    "        return int(np.floor(len(self.image_filenames) / self.batch_size))\n",
    "\n",
    "    # Get a batch of images and masks.\n",
    "    def __getitem__(self, index):\n",
    "        batch_files = self.image_filenames[index * self.batch_size:(index + 1) * self.batch_size]\n",
    "\n",
    "        images, masks = [], []\n",
    "        for file in batch_files:\n",
    "            img_path = os.path.join(self.image_folder, file)  \n",
    "            mask_path = os.path.join(self.mask_folder, file)  \n",
    "\n",
    "            img = load_img(img_path, target_size=self.img_size)  # Load image\n",
    "            mask = load_img(mask_path, target_size=self.img_size, color_mode=\"grayscale\") \n",
    "            \n",
    "            # Convert image and mask to array and normalize\n",
    "            images.append(img_to_array(img) / 255.0)  \n",
    "            masks.append(img_to_array(mask) / 255.0) \n",
    "\n",
    "        # Return batches\n",
    "        return np.array(images, dtype=np.float32), np.array(masks, dtype=np.float32)  "
   ]
  },
  {
   "cell_type": "code",
   "execution_count": 5,
   "id": "b29f98e5-f1a3-4b39-aa28-388808b42f53",
   "metadata": {},
   "outputs": [],
   "source": [
    "# Create data generators for training, validation and test datasets\n",
    "train_gen = DataGenerator(os.path.join(base_dir, \"train\"), BATCH_SIZE, (IMG_HEIGHT, IMG_WIDTH))\n",
    "val_gen = DataGenerator(os.path.join(base_dir, \"val\"), BATCH_SIZE, (IMG_HEIGHT, IMG_WIDTH))\n",
    "test_gen = DataGenerator(os.path.join(base_dir, \"test\"), BATCH_SIZE, (IMG_HEIGHT, IMG_WIDTH))"
   ]
  },
  {
   "cell_type": "code",
   "execution_count": 6,
   "id": "ecce2203-0e66-44d0-874f-3307736ce910",
   "metadata": {},
   "outputs": [],
   "source": [
    "def unet_model(input_size=(IMG_HEIGHT, IMG_WIDTH, 3), num_classes=1):\n",
    "    inputs = layers.Input(input_size)\n",
    "\n",
    "    # Encoder\n",
    "    c1 = layers.Conv2D(64, (3, 3), activation='relu', padding='same')(inputs)\n",
    "    c1 = layers.Conv2D(64, (3, 3), activation='relu', padding='same')(c1)\n",
    "    p1 = layers.MaxPooling2D((2, 2))(c1)\n",
    "\n",
    "    c2 = layers.Conv2D(128, (3, 3), activation='relu', padding='same')(p1)\n",
    "    c2 = layers.Conv2D(128, (3, 3), activation='relu', padding='same')(c2)\n",
    "    p2 = layers.MaxPooling2D((2, 2))(c2)\n",
    "\n",
    "    c3 = layers.Conv2D(256, (3, 3), activation='relu', padding='same')(p2)\n",
    "    c3 = layers.Conv2D(256, (3, 3), activation='relu', padding='same')(c3)\n",
    "    p3 = layers.MaxPooling2D((2, 2))(c3)\n",
    "\n",
    "    c4 = layers.Conv2D(512, (3, 3), activation='relu', padding='same')(p3)\n",
    "    c4 = layers.Conv2D(512, (3, 3), activation='relu', padding='same')(c4)\n",
    "    p4 = layers.MaxPooling2D((2, 2))(c4)\n",
    "\n",
    "    # Bottleneck\n",
    "    c5 = layers.Conv2D(1024, (3, 3), activation='relu', padding='same')(p4)\n",
    "    c5 = layers.Conv2D(1024, (3, 3), activation='relu', padding='same')(c5)\n",
    "\n",
    "    # Decoder\n",
    "    u6 = layers.Conv2DTranspose(512, (2, 2), strides=(2, 2), padding='same')(c5)\n",
    "    u6 = layers.concatenate([u6, c4])\n",
    "    c6 = layers.Conv2D(512, (3, 3), activation='relu', padding='same')(u6)\n",
    "    c6 = layers.Conv2D(512, (3, 3), activation='relu', padding='same')(c6)\n",
    "\n",
    "    u7 = layers.Conv2DTranspose(256, (2, 2), strides=(2, 2), padding='same')(c6)\n",
    "    u7 = layers.concatenate([u7, c3])\n",
    "    c7 = layers.Conv2D(256, (3, 3), activation='relu', padding='same')(u7)\n",
    "    c7 = layers.Conv2D(256, (3, 3), activation='relu', padding='same')(c7)\n",
    "\n",
    "    u8 = layers.Conv2DTranspose(128, (2, 2), strides=(2, 2), padding='same')(c7)\n",
    "    u8 = layers.concatenate([u8, c2])\n",
    "    c8 = layers.Conv2D(128, (3, 3), activation='relu', padding='same')(u8)\n",
    "    c8 = layers.Conv2D(128, (3, 3), activation='relu', padding='same')(c8)\n",
    "\n",
    "    u9 = layers.Conv2DTranspose(64, (2, 2), strides=(2, 2), padding='same')(c8)\n",
    "    u9 = layers.concatenate([u9, c1])\n",
    "    c9 = layers.Conv2D(64, (3, 3), activation='relu', padding='same')(u9)\n",
    "    c9 = layers.Conv2D(64, (3, 3), activation='relu', padding='same')(c9)\n",
    "\n",
    "    # Output layer\n",
    "    outputs = layers.Conv2D(num_classes, (1, 1), activation='sigmoid')(c9)\n",
    "\n",
    "    model = Model(inputs=[inputs], outputs=[outputs])\n",
    "\n",
    "    return model"
   ]
  },
  {
   "cell_type": "code",
   "execution_count": 7,
   "id": "b598382a-dda8-448e-9551-734c76f0ce03",
   "metadata": {},
   "outputs": [],
   "source": [
    "# Configure early stopping to prevent overfitting\n",
    "early_stopping = EarlyStopping(\n",
    "    monitor='val_loss',   # Monitor validation loss\n",
    "    patience=10,          # Stop after 10 epochs without improvement\n",
    "    restore_best_weights=True  # Restore model weights from the best epoch\n",
    ")\n",
    "\n",
    "# Initialize the U-Net model\n",
    "model = unet_model(input_size=(IMG_HEIGHT, IMG_WIDTH, 3), num_classes=1)\n",
    "\n",
    "# Define optimizer and compile the model\n",
    "optimizer = Adam(learning_rate=1e-4)\n",
    "model.compile(optimizer=optimizer, loss='binary_crossentropy', metrics=['accuracy'])"
   ]
  },
  {
   "cell_type": "code",
   "execution_count": null,
   "id": "82c00494-9fa6-4934-8fbe-6a1f3ad88f50",
   "metadata": {},
   "outputs": [],
   "source": [
    "# Set the number of epochs and batch size\n",
    "epochs = 100\n",
    "\n",
    "# Train the model\n",
    "history = model.fit(\n",
    "    train_gen,  # Training data\n",
    "    validation_data=val_gen,  # Validation data\n",
    "    epochs=epochs,  # Number of training epochs\n",
    "    callbacks=[early_stopping]  # Apply early stopping\n",
    ")"
   ]
  },
  {
   "cell_type": "code",
   "execution_count": 9,
   "id": "5073f700-e356-4ccb-89a9-cc4bd5ac5b29",
   "metadata": {},
   "outputs": [],
   "source": [
    "# Save the trained model to a file\n",
    "model.save(r\"C:\\Users\\Mafe Valenzuela\\Documents\\Cps\\Códigos\\model.keras\")"
   ]
  }
 ],
 "metadata": {
  "kernelspec": {
   "display_name": "Python 3 (ipykernel)",
   "language": "python",
   "name": "python3"
  },
  "language_info": {
   "codemirror_mode": {
    "name": "ipython",
    "version": 3
   },
   "file_extension": ".py",
   "mimetype": "text/x-python",
   "name": "python",
   "nbconvert_exporter": "python",
   "pygments_lexer": "ipython3",
   "version": "3.12.7"
  }
 },
 "nbformat": 4,
 "nbformat_minor": 5
}
