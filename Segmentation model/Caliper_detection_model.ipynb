{
 "cells": [
  {
   "cell_type": "code",
   "execution_count": null,
   "id": "257393be-97e4-4ad9-9673-f7bc939f5767",
   "metadata": {},
   "outputs": [],
   "source": [
    "import tensorflow as tf\n",
    "from tensorflow import keras\n",
    "from tensorflow.keras import layers\n",
    "import numpy as np\n",
    "import os\n",
    "from PIL import Image\n"
   ]
  },
  {
   "cell_type": "code",
   "execution_count": null,
   "id": "cead0113-9adf-42c3-9909-c87f14a2b37a",
   "metadata": {},
   "outputs": [],
   "source": [
    "def load_data(image_dir, mask_dir, calipers_dir, img_size=(176, 320)):\n",
    "    images, masks, calipers = [], [], []\n",
    "    \n",
    "    image_files = {os.path.splitext(f)[0]: f for f in os.listdir(image_dir)}\n",
    "    mask_files = {os.path.splitext(f)[0]: f for f in os.listdir(mask_dir)}\n",
    "    caliper_files = {os.path.splitext(f)[0]: f for f in os.listdir(calipers_dir)}\n",
    "    \n",
    "    common_keys = set(image_files.keys()) & set(mask_files.keys()) & set(caliper_files.keys())\n",
    "    \n",
    "    for key in sorted(common_keys):\n",
    "        img_path = os.path.join(image_dir, image_files[key])\n",
    "        mask_path = os.path.join(mask_dir, mask_files[key])\n",
    "        caliper_path = os.path.join(calipers_dir, caliper_files[key])\n",
    "        \n",
    "        try:\n",
    "            img = Image.open(img_path).convert(\"L\")\n",
    "            mask = Image.open(mask_path).convert(\"L\")\n",
    "            img = img.resize(img_size)\n",
    "            mask = mask.resize(img_size)\n",
    "            \n",
    "            img = np.array(img) / 255.0\n",
    "            mask = np.array(mask) / 255.0\n",
    "        except Exception as e:\n",
    "            print(f\"Error al cargar la imagen o máscara {key}: {e}\")\n",
    "            continue\n",
    "        \n",
    "        caliper = np.load(caliper_path)\n",
    "        \n",
    "        images.append(img)\n",
    "        masks.append(mask)\n",
    "        calipers.append(caliper.flatten())\n",
    "    \n",
    "    images = np.array(images).reshape(-1, img_size[0], img_size[1], 1)\n",
    "    masks = np.array(masks).reshape(-1, img_size[0], img_size[1], 1)\n",
    "    inputs = np.concatenate([images, masks], axis=-1) \n",
    "    calipers = np.array(calipers)\n",
    "    \n",
    "    return inputs, calipers\n",
    "\n",
    "def create_calipers_cnn(input_shape=(176, 320, 2), learning_rate=0.001):\n",
    "    inputs = keras.Input(shape=input_shape)\n",
    "    \n",
    "    x = layers.Conv2D(32, (3, 3), activation='relu', padding='same')(inputs)\n",
    "    x = layers.MaxPooling2D((2, 2))(x)\n",
    "    x = layers.Conv2D(64, (3, 3), activation='relu', padding='same')(x)\n",
    "    x = layers.MaxPooling2D((2, 2))(x)\n",
    "    x = layers.Conv2D(128, (3, 3), activation='relu', padding='same')(x)\n",
    "    x = layers.MaxPooling2D((2, 2))(x)\n",
    "    x = layers.Conv2D(256, (3,3), activation='relu', padding='same')(x)\n",
    "    x = layers.Dropout(0.1)(x)  # Regularización\n",
    "    \n",
    "    x = layers.Flatten()(x)\n",
    "    x = layers.Dense(256, activation='relu')(x)\n",
    "    x = layers.Dropout(0.1)(x) \n",
    "    x = layers.Dense(128, activation='relu')(x)\n",
    "    outputs = layers.Dense(4, activation='linear')(x) \n",
    "    \n",
    "    model = keras.Model(inputs, outputs, name=\"calipers_cnn\")\n",
    "    \n",
    "    return model"
   ]
  },
  {
   "cell_type": "code",
   "execution_count": null,
   "id": "80bb69ee-2347-45a1-9ab0-02437917672d",
   "metadata": {},
   "outputs": [],
   "source": [
    "learning_rate = 0.0005\n",
    "epochs = 100\n",
    "batch_size = 16\n",
    "\n",
    "model = create_calipers_cnn(learning_rate=learning_rate)"
   ]
  },
  {
   "cell_type": "code",
   "execution_count": null,
   "id": "9a230871-a4f2-4731-a405-2697818b355f",
   "metadata": {},
   "outputs": [],
   "source": [
    "from tensorflow.keras.utils import plot_model\n",
    "plot_model(model, to_file=r\"C:\\Users\\Mafe Valenzuela\\Pictures\\Saved Pictures\", show_shapes=True, show_layer_names=True, dpi=100)\n"
   ]
  },
  {
   "cell_type": "code",
   "execution_count": null,
   "id": "18f79902-4b53-4e1b-b946-f14956aea852",
   "metadata": {},
   "outputs": [],
   "source": [
    "train_image_dir = r\"C:\\Users\\Mafe Valenzuela\\Documents\\Cps\\01\\Segmentación\\train\\images\"\n",
    "train_mask_dir = r\"C:\\Users\\Mafe Valenzuela\\Documents\\Cps\\01\\Segmentación\\train\\masks_generates\"\n",
    "train_calipers_dir= r\"C:\\Users\\Mafe Valenzuela\\Documents\\Cps\\01\\Segmentación\\train\\callipers\"\n",
    "\n",
    "val_image_dir = r\"C:\\Users\\Mafe Valenzuela\\Documents\\Cps\\01\\Segmentación\\val\\images\"\n",
    "val_mask_dir = r\"C:\\Users\\Mafe Valenzuela\\Documents\\Cps\\01\\Segmentación\\val\\masks_generates\"\n",
    "val_calipers_dir = r\"C:\\Users\\Mafe Valenzuela\\Documents\\Cps\\01\\Segmentación\\val\\callipers\"\n"
   ]
  },
  {
   "cell_type": "code",
   "execution_count": null,
   "id": "1e1a38b3-1970-4599-bae6-5c02cfaafe00",
   "metadata": {},
   "outputs": [],
   "source": [
    "train_inputs, train_calipers = load_data(train_image_dir, train_mask_dir, train_calipers_dir)\n",
    "val_inputs, val_calipers = load_data(val_image_dir, val_mask_dir, val_calipers_dir)"
   ]
  },
  {
   "cell_type": "code",
   "execution_count": null,
   "id": "b5f8f30e-bbd4-44a5-93fd-fe454a295d44",
   "metadata": {},
   "outputs": [],
   "source": [
    "from tensorflow.keras.callbacks import EarlyStopping\n",
    "optimizer = keras.optimizers.Adam(learning_rate=learning_rate)\n",
    "early_stopping = EarlyStopping(\n",
    "    monitor='val_loss',  \n",
    "    patience=10,          \n",
    "    restore_best_weights=True  \n",
    ")\n",
    "model.compile(optimizer=optimizer, loss='mse', metrics=['mae'])"
   ]
  },
  {
   "cell_type": "code",
   "execution_count": null,
   "id": "3f9009bb-4495-445b-b442-41eaaef11095",
   "metadata": {},
   "outputs": [],
   "source": [
    "model.fit(train_inputs, train_calipers, epochs=epochs, batch_size=batch_size, validation_data=(val_inputs, val_calipers),callbacks=[early_stopping])"
   ]
  },
  {
   "cell_type": "code",
   "execution_count": null,
   "id": "074445bb-4dc8-4dbe-9f18-6eaa354148ad",
   "metadata": {},
   "outputs": [],
   "source": [
    "model.save(r\"C:\\Users\\Mafe Valenzuela\\Documents\\Cps\\Códigos\\calipers_cnn.keras\") "
   ]
  }
 ],
 "metadata": {
  "kernelspec": {
   "display_name": "Python 3 (ipykernel)",
   "language": "python",
   "name": "python3"
  },
  "language_info": {
   "codemirror_mode": {
    "name": "ipython",
    "version": 3
   },
   "file_extension": ".py",
   "mimetype": "text/x-python",
   "name": "python",
   "nbconvert_exporter": "python",
   "pygments_lexer": "ipython3",
   "version": "3.12.7"
  }
 },
 "nbformat": 4,
 "nbformat_minor": 5
}
