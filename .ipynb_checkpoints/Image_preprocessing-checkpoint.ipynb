{
 "cells": [
  {
   "cell_type": "code",
   "execution_count": 1,
   "id": "4192f30a-df75-4ba0-b8c5-fc4202a92e4b",
   "metadata": {},
   "outputs": [],
   "source": [
    "import numpy as np\n",
    "import matplotlib.pyplot as plt\n",
    "import cv2\n",
    "import pandas as pd\n",
    "import re\n",
    "import os\n",
    "from matplotlib.colors import ListedColormap\n",
    "from skimage.measure import label, regionprops\n",
    "from skimage.filters import threshold_otsu\n",
    "from skimage.morphology import disk, binary_opening, binary_closing, octagon, square\n",
    "from skimage.morphology import remove_small_objects\n",
    "import scipy.io\n",
    "from tqdm import tqdm\n",
    "import json\n",
    "import openpyxl\n",
    "import sys\n",
    "import inspect\n",
    "from skimage import exposure\n",
    "from PIL import Image\n",
    "from scipy.spatial.distance import pdist\n",
    "from skimage.draw import bezier_curve\n",
    "\n",
    "import math\n"
   ]
  },
  {
   "cell_type": "code",
   "execution_count": 2,
   "id": "124a0d89-4902-4437-a639-feaf09dfcc2c",
   "metadata": {},
   "outputs": [],
   "source": [
    "def usFOV(img,perc_header=0.075):\n",
    "    img = np.array(img)\n",
    "\n",
    "    # Calculate the new position of y.\n",
    "    new_y0 = int(np.round(img.shape[0] * perc_header))\n",
    "\n",
    "    # Convert to grayscale and binarize\n",
    "    gray = cv2.cvtColor(img[new_y0-1:, :, :], cv2.COLOR_RGB2GRAY)\n",
    "    binary = gray > 0\n",
    "\n",
    "    # Label the regions and keep only the largest one.\n",
    "    labeled_img = label(binary)\n",
    "    largest_region = max(regionprops(labeled_img), key=lambda region: region.area)\n",
    "    binary = labeled_img == largest_region.label\n",
    "\n",
    "    # Calculate the size of the structuring element.\n",
    "    tsl = disk(round(min(binary.shape) * 0.09))\n",
    "\n",
    "    # Apply the morphological opening operation.\n",
    "    box1 = binary_opening(binary, tsl)\n",
    "\n",
    "    # Label the regions again.\n",
    "    box1 = label(box1)\n",
    "\n",
    "    # Get the coordinates of the bounding box.\n",
    "    box1_props = max(regionprops(box1), key=lambda region: region.area)\n",
    "    box1_bbox = box1_props.bbox\n",
    "\n",
    "    # Apply another morphological opening operation with an octagon.\n",
    "    box2 = binary_opening(binary, octagon(9, 1))\n",
    "    box2 = label(box2)\n",
    "    box2_props = max(regionprops(box2), key=lambda region: region.area)\n",
    "    box2_bbox = box2_props.bbox\n",
    "\n",
    "    # Calculate the coordinates of the region of interest (ROI).\n",
    "    roi = (box2_bbox[1], box1_bbox[0], box2_bbox[3] - box2_bbox[1], box1_bbox[2] - box1_bbox[0])\n",
    "    roi = tuple(map(int, roi))\n",
    "\n",
    "    # Crop the region of interest (ROI) from the original image.\n",
    "    fov = img[new_y0:, :, :]\n",
    "    fov = fov[roi[1]:roi[1] + roi[3], roi[0]:roi[0] + roi[2], :]\n",
    "    \n",
    "    return fov"
   ]
  },
  {
   "cell_type": "code",
   "execution_count": 3,
   "id": "155662da-fea5-4bf2-871e-49a3b3802d5c",
   "metadata": {},
   "outputs": [],
   "source": [
    "def usDcallipers(impath):\n",
    "    \n",
    "    if impath.endswith(\".bmp\"):\n",
    "        factor=15\n",
    "    elif impath.endswith(\".jpg\") or impath.endswith(\".jpeg\"):\n",
    "        factor=45\n",
    "        \n",
    "    f=cv2.imread(impath)\n",
    "\n",
    "    # Difference between red and blue channels and normalization\n",
    "    imagen=usFOV(f)\n",
    "    mg1 = np.abs(imagen[:,:,0] - imagen[:,:,2])\n",
    "    mg1 = (mg1 - np.min(mg1)) / (np.max(mg1) - np.min(mg1))\n",
    "\n",
    "    # Thresholding with a high value to identify only crosses and ignore other artifacts\n",
    "    cm_init = mg1 > 0.55\n",
    "    \n",
    "    # Opening and closing to have a better approximation of a cross shape\n",
    "    se1 = np.ones((1, 2))\n",
    "    se2 = np.ones((9, 9))\n",
    "\n",
    "    cm_init = remove_small_objects(cm_init, factor)\n",
    "\n",
    "    # Perform the morphological opening operation.\n",
    "    cm = binary_opening(cm_init, se1)\n",
    "\n",
    "    # Perform the morphological closing operation.\n",
    "    cm = binary_closing(cm,se2)\n",
    "    h, w = cm.shape\n",
    "\n",
    "    # Remove artifacts in defined regions to prevent erroneous calliper detection \n",
    "    cm[0:int(h*0.25), int(w*(1-0.15)):] = 0  # Region 1\n",
    "    cm[int(h*(0.9)):, :] = 0                # Region 2\n",
    "    cm[:, 0:int(w*0.10)] = 0   \n",
    "\n",
    "    cm = remove_small_objects(cm, 3)\n",
    "    cm= cm.astype(np.uint8)\n",
    "    labeled_cm = label(cm)\n",
    "\n",
    "    if np.max(labeled_cm) > 2:\n",
    "        # Filter to keep only the three largest connected components.\n",
    "        cm = remove_small_objects(cm, 3)\n",
    "        labeled_cm = label(cm)\n",
    "\n",
    "        # Obtain the properties of the remaining regions.\n",
    "        regions = regionprops(labeled_cm)\n",
    "\n",
    "        # Initialize a list to store the centroids of the remaining regions.\n",
    "        centroids = []\n",
    "\n",
    "        # Iterate over the regions and obtain the centroids.\n",
    "        for region in regions:\n",
    "            centroids.append(region.centroid)\n",
    "\n",
    "        # Convert the list of centroids into a NumPy array.\n",
    "        centroids = np.array(centroids)\n",
    "\n",
    "        # Calculate the distances between the centroids.\n",
    "        percs = pdist(centroids) / np.sqrt(w ** 2 + h ** 2)\n",
    "        cond = np.any((percs[percs > 0.02]) < 0.07)\n",
    "\n",
    "    # Obtaining calliper coordinates\n",
    "    labeled_cm = label(cm)\n",
    "\n",
    "    p1=[0,0]\n",
    "    p2=[0,0]\n",
    "\n",
    "    # Labeled regions.\n",
    "    regions = regionprops(labeled_cm)\n",
    "    prueba=len(np.unique(labeled_cm))\n",
    "    \n",
    "    # Find the coordinates of the labeled regions.\n",
    "    for region in regions:\n",
    "        if region.label == prueba-1:\n",
    "            y1, x1 = region.coords[:, 0], region.coords[:, 1]\n",
    "            p1 = [np.mean(x1), np.mean(y1)]\n",
    "        elif region.label == prueba-2:\n",
    "            y2, x2 = region.coords[:, 0], region.coords[:, 1]\n",
    "            p2 = [np.mean(x2), np.mean(y2)]\n",
    "\n",
    "   # p1 always above p2.\n",
    "    if p2[1] - p1[1] < 0:\n",
    "        p1, p2 = p2, p1\n",
    "\n",
    "    return cm, p1, p2,imagen"
   ]
  },
  {
   "cell_type": "code",
   "execution_count": 4,
   "id": "1a52079a-fa0e-4b5c-b677-87ed1bb5c014",
   "metadata": {},
   "outputs": [],
   "source": [
    "def usPreprocess(f):\n",
    "    \n",
    "    cm, p1, p2,f1 = usDcallipers(f)\n",
    "    gray = cv2.cvtColor(f1, cv2.COLOR_RGB2GRAY)\n",
    "    _, bm = cv2.threshold(gray, 1, 255, cv2.THRESH_BINARY)\n",
    "    \n",
    "    # Background\n",
    "    bm = fillHoles(bm)\n",
    "    bm = cv2.erode(bm, cv2.getStructuringElement(cv2.MORPH_ELLIPSE, (3, 3)))\n",
    "    bm = cv2.morphologyEx(bm, cv2.MORPH_CLOSE, cv2.getStructuringElement(cv2.MORPH_ELLIPSE, (7, 7)))\n",
    "    \n",
    "    # Normalization, G and B channels.\n",
    "    mg2 = np.abs(f1[:,:,0] - f1[:,:,1])\n",
    "    mg2 = (mg2 - np.min(mg2)) / (np.max(mg2) - np.min(mg2))\n",
    "    \n",
    "    am_init = mg2 > 0.1\n",
    "    dam_init = cv2.dilate(am_init.astype(np.uint8), np.ones((2, 2), np.uint8))\n",
    "    \n",
    "    if cm.shape != dam_init.shape:\n",
    "        dam_init = cv2.resize(dam_init, (cm.shape[1], cm.shape[0]))\n",
    "    \n",
    "    # Perform the logical OR operation.\n",
    "    am = np.logical_or(cm, dam_init)\n",
    "    \n",
    "    # Convert image to a single channel.\n",
    "    rimg = np.mean(f1[:, :, 0:2], axis=2).astype(np.uint8)\n",
    "    \n",
    "    # Create a dilated region mask.\n",
    "    dregion_mask = cv2.dilate(am_init.astype(np.uint8), np.ones((2, 2), np.uint8))\n",
    "    \n",
    "    # Inpaint the image.\n",
    "    g = cv2.inpaint(rimg, dregion_mask, 3, cv2.INPAINT_TELEA)\n",
    "\n",
    "    return g, am, bm, p1, p2\n",
    "\n",
    "def fillHoles(bm):\n",
    "    # Find the contours in the binary image.\n",
    "    contours, _ = cv2.findContours(bm, cv2.RETR_EXTERNAL, cv2.CHAIN_APPROX_SIMPLE)\n",
    "\n",
    "    # Draw the contours on a black image.\n",
    "    filled = np.zeros_like(bm)\n",
    "    cv2.drawContours(filled, contours, -1, 255, thickness=cv2.FILLED)\n",
    "\n",
    "    return filled"
   ]
  },
  {
   "cell_type": "code",
   "execution_count": 5,
   "id": "974ede42-96b6-478c-89cd-ce50a906cb80",
   "metadata": {},
   "outputs": [],
   "source": [
    "def usSeg(cm, p1, p2):\n",
    "    # Create a copy of the segmentation image\n",
    "    seg = np.zeros_like(cm)\n",
    "\n",
    "    p1 = (int(p1[0]), int(p1[1]))\n",
    "    p2 = (int(p2[0]), int(p2[1]))\n",
    "    angle = 160\n",
    "\n",
    "    angle_rad = math.radians(angle)\n",
    "    a = 120\n",
    "\n",
    "    p1_up = (int(p1[0] + a * math.cos(angle_rad)), int(p1[1] - a * math.sin(angle_rad))) \n",
    "    p1_down = (int(p1[0] - (a-50) * math.cos(angle_rad)), int(p1[1] + (a-50) * math.sin(angle_rad)))\n",
    "\n",
    "    # Calculate the control points for the Bézier curve between p1_up and p2_up\n",
    "    p2_up = (p2[0], p2[1] - 50)  # Adjust p2_up to make it a higher point\n",
    "    p1_up = (p1[0], p1[1] - 50)  # Adjust p1_up to make it a higher point\n",
    "    \n",
    "    # Calculate the control point for the curve (you can adjust this value)\n",
    "    control_point = (int((p1_up[0] + p2_up[0]) / 2), int((p1_up[1] + p2_up[1]) / 2) - 30)\n",
    "\n",
    "    # Generate the Bézier curve\n",
    "    curve_points = bezier_curve(p2_up[0], p2_up[1],\n",
    "                     control_point[0], control_point[1],\n",
    "                     p1_up[0], p1_up[1],\n",
    "                     weight=50)  # o el valor que quieras\n",
    "\n",
    "\n",
    "    # Create the polygon\n",
    "    polygon_points = np.array([p1_up, p2_up] + curve_points.tolist() + [p1_down, p2_down], dtype=np.int32)\n",
    "\n",
    "    # Fill the polygon in the segmentation image\n",
    "    cv2.fillPoly(seg, [polygon_points], color=1)\n",
    "\n",
    "    # Apply the segmentation to the image with additional rows (using cm with extra rows)\n",
    "    seg = seg * (cm == 255).astype(np.uint8)\n",
    "\n",
    "    # Define the kernel size for erosion\n",
    "    kernel = np.ones((5, 5), np.uint8)\n",
    "\n",
    "    # Create a mask that only covers the region between p1_up, p2_up, and up to p2_down\n",
    "    mask = np.zeros_like(seg)\n",
    "\n",
    "    # Draw the polygon bounded by the points\n",
    "    polygon_points = np.array([p1_up, p2_up, p2_down], dtype=np.int32)\n",
    "    cv2.fillPoly(mask, [polygon_points], color=1)\n",
    "\n",
    "    # Apply erosion only to the selected region\n",
    "    eroded = cv2.erode(seg, kernel)\n",
    "    \n",
    "    # Apply erosion to the selected region in the mask\n",
    "    seg[mask == 1] = eroded[mask == 1]\n",
    "\n",
    "    return seg"
   ]
  },
  {
   "cell_type": "code",
   "execution_count": null,
   "id": "8dbb3f72-8395-4c11-b892-21eae8a9fcaa",
   "metadata": {},
   "outputs": [
    {
     "name": "stderr",
     "output_type": "stream",
     "text": [
      "Procesando imágenes:   0%|                                                                     | 0/224 [00:00<?, ?it/s]C:\\Users\\Mafe Valenzuela\\AppData\\Local\\Temp\\ipykernel_2176\\1366226959.py:42: UserWarning: Only one label was provided to `remove_small_objects`. Did you mean to use a boolean array?\n",
      "  cm = remove_small_objects(cm, 3)\n",
      "Procesando imágenes:   0%|▎                                                            | 1/224 [00:03<12:30,  3.37s/it]"
     ]
    },
    {
     "name": "stdout",
     "output_type": "stream",
     "text": [
      "Error procesando C:\\Users\\Mafe Valenzuela\\Documents\\Cps\\01\\FOSCAL\\F-PP-0001/20191123_072955/pp-0001_37.bmp: bezier_curve() got an unexpected keyword argument 'num_points'\n"
     ]
    },
    {
     "name": "stderr",
     "output_type": "stream",
     "text": [
      "Procesando imágenes:   1%|▌                                                            | 2/224 [00:06<12:05,  3.27s/it]"
     ]
    },
    {
     "name": "stdout",
     "output_type": "stream",
     "text": [
      "Error procesando C:\\Users\\Mafe Valenzuela\\Documents\\Cps\\01\\FOSCAL\\F-PP-0002/20191123_081029/pp-0002_34.bmp: bezier_curve() got an unexpected keyword argument 'num_points'\n"
     ]
    },
    {
     "name": "stderr",
     "output_type": "stream",
     "text": [
      "Procesando imágenes:   1%|▊                                                            | 3/224 [00:09<12:04,  3.28s/it]"
     ]
    },
    {
     "name": "stdout",
     "output_type": "stream",
     "text": [
      "Error procesando C:\\Users\\Mafe Valenzuela\\Documents\\Cps\\01\\FOSCAL\\F-PP-0004/20191219_124920/pp-0004_21.bmp: bezier_curve() got an unexpected keyword argument 'num_points'\n"
     ]
    },
    {
     "name": "stderr",
     "output_type": "stream",
     "text": [
      "Procesando imágenes:   2%|█                                                            | 4/224 [00:13<11:58,  3.27s/it]"
     ]
    },
    {
     "name": "stdout",
     "output_type": "stream",
     "text": [
      "Error procesando C:\\Users\\Mafe Valenzuela\\Documents\\Cps\\01\\FOSCAL\\F-PP-0005/20191219_112636/pp-0005_31.bmp: bezier_curve() got an unexpected keyword argument 'num_points'\n"
     ]
    },
    {
     "name": "stderr",
     "output_type": "stream",
     "text": [
      "Procesando imágenes:   2%|█▎                                                           | 5/224 [00:16<11:59,  3.28s/it]"
     ]
    },
    {
     "name": "stdout",
     "output_type": "stream",
     "text": [
      "Error procesando C:\\Users\\Mafe Valenzuela\\Documents\\Cps\\01\\FOSCAL\\F-PP-0006/20200123_114848/pp-0006_33.bmp: bezier_curve() got an unexpected keyword argument 'num_points'\n"
     ]
    },
    {
     "name": "stderr",
     "output_type": "stream",
     "text": [
      "Procesando imágenes:   3%|█▋                                                           | 6/224 [00:19<12:03,  3.32s/it]"
     ]
    },
    {
     "name": "stdout",
     "output_type": "stream",
     "text": [
      "Error procesando C:\\Users\\Mafe Valenzuela\\Documents\\Cps\\01\\FOSCAL\\F-PP-0007/20200123_122823/pp-0007_34.bmp: bezier_curve() got an unexpected keyword argument 'num_points'\n"
     ]
    },
    {
     "name": "stderr",
     "output_type": "stream",
     "text": [
      "Procesando imágenes:   3%|█▉                                                           | 7/224 [00:23<12:09,  3.36s/it]"
     ]
    },
    {
     "name": "stdout",
     "output_type": "stream",
     "text": [
      "Error procesando C:\\Users\\Mafe Valenzuela\\Documents\\Cps\\01\\FOSCAL\\F-PP-0009/20200201_071612/pp-0009_16.bmp: bezier_curve() got an unexpected keyword argument 'num_points'\n"
     ]
    },
    {
     "name": "stderr",
     "output_type": "stream",
     "text": [
      "Procesando imágenes:   4%|██▏                                                          | 8/224 [00:26<12:11,  3.38s/it]"
     ]
    },
    {
     "name": "stdout",
     "output_type": "stream",
     "text": [
      "Error procesando C:\\Users\\Mafe Valenzuela\\Documents\\Cps\\01\\FOSCAL\\F-PP-0010/20200201_080158/pp-0010_42.bmp: bezier_curve() got an unexpected keyword argument 'num_points'\n"
     ]
    },
    {
     "name": "stderr",
     "output_type": "stream",
     "text": [
      "Procesando imágenes:   4%|██▍                                                          | 9/224 [00:30<12:14,  3.42s/it]"
     ]
    },
    {
     "name": "stdout",
     "output_type": "stream",
     "text": [
      "Error procesando C:\\Users\\Mafe Valenzuela\\Documents\\Cps\\01\\FOSCAL\\F-PP-0011/20200208_072026/PP-0011_31.bmp: bezier_curve() got an unexpected keyword argument 'num_points'\n"
     ]
    },
    {
     "name": "stderr",
     "output_type": "stream",
     "text": [
      "Procesando imágenes:   4%|██▋                                                         | 10/224 [00:33<12:13,  3.43s/it]"
     ]
    },
    {
     "name": "stdout",
     "output_type": "stream",
     "text": [
      "Error procesando C:\\Users\\Mafe Valenzuela\\Documents\\Cps\\01\\FOSCAL\\F-PP-0017/20200222_102338/PP 0017_42.jpg: bezier_curve() got an unexpected keyword argument 'num_points'\n"
     ]
    },
    {
     "name": "stderr",
     "output_type": "stream",
     "text": [
      "Procesando imágenes:   5%|██▉                                                         | 11/224 [00:37<12:10,  3.43s/it]"
     ]
    },
    {
     "name": "stdout",
     "output_type": "stream",
     "text": [
      "Error procesando C:\\Users\\Mafe Valenzuela\\Documents\\Cps\\01\\FOSCAL\\F-PP-0024/20200314_103420/PP 0024_42.jpg: bezier_curve() got an unexpected keyword argument 'num_points'\n"
     ]
    },
    {
     "name": "stderr",
     "output_type": "stream",
     "text": [
      "Procesando imágenes:   5%|███▏                                                        | 12/224 [00:40<12:14,  3.47s/it]"
     ]
    },
    {
     "name": "stdout",
     "output_type": "stream",
     "text": [
      "Error procesando C:\\Users\\Mafe Valenzuela\\Documents\\Cps\\01\\FOSCAL\\F-PP-0026/20200521_102544/PP0026_49.jpg: bezier_curve() got an unexpected keyword argument 'num_points'\n"
     ]
    },
    {
     "name": "stderr",
     "output_type": "stream",
     "text": [
      "Procesando imágenes:   6%|███▍                                                        | 13/224 [00:44<12:19,  3.50s/it]"
     ]
    },
    {
     "name": "stdout",
     "output_type": "stream",
     "text": [
      "Error procesando C:\\Users\\Mafe Valenzuela\\Documents\\Cps\\01\\FOSCAL\\F-PP-0027/20200604_100812/PP 0027_45.jpg: bezier_curve() got an unexpected keyword argument 'num_points'\n"
     ]
    },
    {
     "name": "stderr",
     "output_type": "stream",
     "text": [
      "Procesando imágenes:   6%|███▊                                                        | 14/224 [00:47<12:34,  3.59s/it]"
     ]
    },
    {
     "name": "stdout",
     "output_type": "stream",
     "text": [
      "Error procesando C:\\Users\\Mafe Valenzuela\\Documents\\Cps\\01\\FOSCAL\\F-PP-0029/20200606_105609/PP 29_47.jpg: bezier_curve() got an unexpected keyword argument 'num_points'\n"
     ]
    },
    {
     "name": "stderr",
     "output_type": "stream",
     "text": [
      "Procesando imágenes:   7%|████                                                        | 15/224 [00:51<12:36,  3.62s/it]"
     ]
    },
    {
     "name": "stdout",
     "output_type": "stream",
     "text": [
      "Error procesando C:\\Users\\Mafe Valenzuela\\Documents\\Cps\\01\\FOSCAL\\F-PP-0031/20200618_083208/PP 0031_43.jpg: bezier_curve() got an unexpected keyword argument 'num_points'\n"
     ]
    },
    {
     "name": "stderr",
     "output_type": "stream",
     "text": [
      "Procesando imágenes:   7%|████▎                                                       | 16/224 [00:55<12:40,  3.66s/it]"
     ]
    },
    {
     "name": "stdout",
     "output_type": "stream",
     "text": [
      "Error procesando C:\\Users\\Mafe Valenzuela\\Documents\\Cps\\01\\FOSCAL\\F-PP-0032/20200625_111434/IMG_20200627_7PP 0032_50.jpg: bezier_curve() got an unexpected keyword argument 'num_points'\n"
     ]
    },
    {
     "name": "stderr",
     "output_type": "stream",
     "text": [
      "Procesando imágenes:   8%|████▌                                                       | 17/224 [00:58<12:27,  3.61s/it]"
     ]
    },
    {
     "name": "stdout",
     "output_type": "stream",
     "text": [
      "Error procesando C:\\Users\\Mafe Valenzuela\\Documents\\Cps\\01\\FOSCAL\\F-PP-0033/20200625_124852/IMG_20200627_8PP 0033_34.jpg: bezier_curve() got an unexpected keyword argument 'num_points'\n"
     ]
    },
    {
     "name": "stderr",
     "output_type": "stream",
     "text": [
      "Procesando imágenes:   8%|████▊                                                       | 18/224 [01:02<12:18,  3.58s/it]"
     ]
    },
    {
     "name": "stdout",
     "output_type": "stream",
     "text": [
      "Error procesando C:\\Users\\Mafe Valenzuela\\Documents\\Cps\\01\\FOSCAL\\F-PP-0034/20200625_132532/PP 0034_45.jpg: bezier_curve() got an unexpected keyword argument 'num_points'\n"
     ]
    },
    {
     "name": "stderr",
     "output_type": "stream",
     "text": [
      "Procesando imágenes:   8%|█████                                                       | 19/224 [01:05<12:08,  3.55s/it]"
     ]
    },
    {
     "name": "stdout",
     "output_type": "stream",
     "text": [
      "Error procesando C:\\Users\\Mafe Valenzuela\\Documents\\Cps\\01\\FOSCAL\\F-PP-0035/20200704_104134/F-PP-0035_36.jpg: bezier_curve() got an unexpected keyword argument 'num_points'\n"
     ]
    },
    {
     "name": "stderr",
     "output_type": "stream",
     "text": [
      "Procesando imágenes:   9%|█████▎                                                      | 20/224 [01:09<11:56,  3.51s/it]"
     ]
    },
    {
     "name": "stdout",
     "output_type": "stream",
     "text": [
      "Error procesando C:\\Users\\Mafe Valenzuela\\Documents\\Cps\\01\\FOSCAL\\F-PP-0036/20200704_113002/F-PP-0036_25.jpg: bezier_curve() got an unexpected keyword argument 'num_points'\n"
     ]
    },
    {
     "name": "stderr",
     "output_type": "stream",
     "text": [
      "Procesando imágenes:   9%|█████▋                                                      | 21/224 [01:12<11:44,  3.47s/it]"
     ]
    },
    {
     "name": "stdout",
     "output_type": "stream",
     "text": [
      "Error procesando C:\\Users\\Mafe Valenzuela\\Documents\\Cps\\01\\FOSCAL\\F-PP-0037/20200711_085950/F-PP-0037_39.jpg: bezier_curve() got an unexpected keyword argument 'num_points'\n"
     ]
    },
    {
     "name": "stderr",
     "output_type": "stream",
     "text": [
      "Procesando imágenes:  10%|█████▉                                                      | 22/224 [01:16<11:42,  3.48s/it]"
     ]
    },
    {
     "name": "stdout",
     "output_type": "stream",
     "text": [
      "Error procesando C:\\Users\\Mafe Valenzuela\\Documents\\Cps\\01\\FOSCAL\\F-PP-0040/20200718_100306/F-PP-0040_40.jpg: bezier_curve() got an unexpected keyword argument 'num_points'\n"
     ]
    },
    {
     "name": "stderr",
     "output_type": "stream",
     "text": [
      "Procesando imágenes:  10%|██████▏                                                     | 23/224 [01:19<11:42,  3.49s/it]"
     ]
    },
    {
     "name": "stdout",
     "output_type": "stream",
     "text": [
      "Error procesando C:\\Users\\Mafe Valenzuela\\Documents\\Cps\\01\\FOSCAL\\F-PP-0041/20200725_082239/F-PP-0041_49.jpg: bezier_curve() got an unexpected keyword argument 'num_points'\n"
     ]
    },
    {
     "name": "stderr",
     "output_type": "stream",
     "text": [
      "Procesando imágenes:  11%|██████▍                                                     | 24/224 [01:23<11:41,  3.51s/it]"
     ]
    },
    {
     "name": "stdout",
     "output_type": "stream",
     "text": [
      "Error procesando C:\\Users\\Mafe Valenzuela\\Documents\\Cps\\01\\FOSCAL\\F-PP-0042/20200725_090007/F-PP-0042_33.jpg: bezier_curve() got an unexpected keyword argument 'num_points'\n"
     ]
    },
    {
     "name": "stderr",
     "output_type": "stream",
     "text": [
      "Procesando imágenes:  11%|██████▋                                                     | 25/224 [01:27<12:40,  3.82s/it]"
     ]
    },
    {
     "name": "stdout",
     "output_type": "stream",
     "text": [
      "Error procesando C:\\Users\\Mafe Valenzuela\\Documents\\Cps\\01\\FOSCAL\\F-PP-0044/20200806_095155/F-PP-0044_39.jpg: bezier_curve() got an unexpected keyword argument 'num_points'\n"
     ]
    },
    {
     "name": "stderr",
     "output_type": "stream",
     "text": [
      "Procesando imágenes:  12%|██████▉                                                     | 26/224 [01:31<12:22,  3.75s/it]"
     ]
    },
    {
     "name": "stdout",
     "output_type": "stream",
     "text": [
      "Error procesando C:\\Users\\Mafe Valenzuela\\Documents\\Cps\\01\\FOSCAL\\F-PP-0046/20200827_122111/F-PP-0046_27.jpg: bezier_curve() got an unexpected keyword argument 'num_points'\n"
     ]
    },
    {
     "name": "stderr",
     "output_type": "stream",
     "text": [
      "Procesando imágenes:  12%|███████▏                                                    | 27/224 [01:35<12:09,  3.70s/it]"
     ]
    },
    {
     "name": "stdout",
     "output_type": "stream",
     "text": [
      "Error procesando C:\\Users\\Mafe Valenzuela\\Documents\\Cps\\01\\FOSCAL\\F-PP-0047/20200827_125045/F-PP-0047_29.jpg: bezier_curve() got an unexpected keyword argument 'num_points'\n"
     ]
    },
    {
     "name": "stderr",
     "output_type": "stream",
     "text": [
      "Procesando imágenes:  12%|███████▌                                                    | 28/224 [01:38<11:53,  3.64s/it]"
     ]
    },
    {
     "name": "stdout",
     "output_type": "stream",
     "text": [
      "Error procesando C:\\Users\\Mafe Valenzuela\\Documents\\Cps\\01\\FOSCAL\\F-PP-0048/20200827_132235/F-PP-0048_25.jpg: bezier_curve() got an unexpected keyword argument 'num_points'\n"
     ]
    },
    {
     "name": "stderr",
     "output_type": "stream",
     "text": [
      "Procesando imágenes:  13%|███████▊                                                    | 29/224 [01:42<11:40,  3.59s/it]"
     ]
    },
    {
     "name": "stdout",
     "output_type": "stream",
     "text": [
      "Error procesando C:\\Users\\Mafe Valenzuela\\Documents\\Cps\\01\\FOSCAL\\F-PP-0049/20200829_082319/F-PP-0049_42.jpg: bezier_curve() got an unexpected keyword argument 'num_points'\n"
     ]
    },
    {
     "name": "stderr",
     "output_type": "stream",
     "text": [
      "Procesando imágenes:  13%|████████                                                    | 30/224 [01:45<11:47,  3.64s/it]"
     ]
    },
    {
     "name": "stdout",
     "output_type": "stream",
     "text": [
      "Error procesando C:\\Users\\Mafe Valenzuela\\Documents\\Cps\\01\\FOSCAL\\F-PP-0050/20200829_093438/F-PP-0050_44.jpg: bezier_curve() got an unexpected keyword argument 'num_points'\n"
     ]
    },
    {
     "name": "stderr",
     "output_type": "stream",
     "text": [
      "Procesando imágenes:  14%|████████▎                                                   | 31/224 [01:49<11:52,  3.69s/it]"
     ]
    },
    {
     "name": "stdout",
     "output_type": "stream",
     "text": [
      "Error procesando C:\\Users\\Mafe Valenzuela\\Documents\\Cps\\01\\FOSCAL\\F-PP-0052/20200903_123908/F-PP-0052_23.jpg: bezier_curve() got an unexpected keyword argument 'num_points'\n"
     ]
    },
    {
     "name": "stderr",
     "output_type": "stream",
     "text": [
      "Procesando imágenes:  14%|████████▌                                                   | 32/224 [01:53<11:47,  3.68s/it]"
     ]
    },
    {
     "name": "stdout",
     "output_type": "stream",
     "text": [
      "Error procesando C:\\Users\\Mafe Valenzuela\\Documents\\Cps\\01\\FOSCAL\\F-PP-0054/20200903_133644/F-PP-0054_24.jpg: bezier_curve() got an unexpected keyword argument 'num_points'\n"
     ]
    },
    {
     "name": "stderr",
     "output_type": "stream",
     "text": [
      "Procesando imágenes:  15%|████████▊                                                   | 33/224 [01:56<11:37,  3.65s/it]"
     ]
    },
    {
     "name": "stdout",
     "output_type": "stream",
     "text": [
      "Error procesando C:\\Users\\Mafe Valenzuela\\Documents\\Cps\\01\\FOSCAL\\F-PP-0055/20200905_085941/F-PP-0055_39.jpg: bezier_curve() got an unexpected keyword argument 'num_points'\n"
     ]
    },
    {
     "name": "stderr",
     "output_type": "stream",
     "text": [
      "Procesando imágenes:  15%|█████████                                                   | 34/224 [02:00<11:27,  3.62s/it]"
     ]
    },
    {
     "name": "stdout",
     "output_type": "stream",
     "text": [
      "Error procesando C:\\Users\\Mafe Valenzuela\\Documents\\Cps\\01\\FOSCAL\\F-PP-0056/20200910_102302/F-PP-0056_29.jpg: bezier_curve() got an unexpected keyword argument 'num_points'\n"
     ]
    },
    {
     "name": "stderr",
     "output_type": "stream",
     "text": [
      "Procesando imágenes:  16%|█████████▍                                                  | 35/224 [02:04<11:26,  3.63s/it]"
     ]
    },
    {
     "name": "stdout",
     "output_type": "stream",
     "text": [
      "Error procesando C:\\Users\\Mafe Valenzuela\\Documents\\Cps\\01\\FOSCAL\\F-PP-0057/20200910_105605/F-PP-0057_29.jpg: bezier_curve() got an unexpected keyword argument 'num_points'\n"
     ]
    },
    {
     "name": "stderr",
     "output_type": "stream",
     "text": [
      "Procesando imágenes:  16%|█████████▋                                                  | 36/224 [02:07<11:23,  3.64s/it]"
     ]
    },
    {
     "name": "stdout",
     "output_type": "stream",
     "text": [
      "Error procesando C:\\Users\\Mafe Valenzuela\\Documents\\Cps\\01\\FOSCAL\\F-PP-0059/20200910_120941/F-PP-0059_42.jpg: bezier_curve() got an unexpected keyword argument 'num_points'\n"
     ]
    },
    {
     "name": "stderr",
     "output_type": "stream",
     "text": [
      "Procesando imágenes:  17%|█████████▉                                                  | 37/224 [02:11<11:24,  3.66s/it]"
     ]
    },
    {
     "name": "stdout",
     "output_type": "stream",
     "text": [
      "Error procesando C:\\Users\\Mafe Valenzuela\\Documents\\Cps\\01\\FOSCAL\\F-PP-0060/20200910_124028/F-PP-0060_25.jpg: bezier_curve() got an unexpected keyword argument 'num_points'\n"
     ]
    },
    {
     "name": "stderr",
     "output_type": "stream",
     "text": [
      "Procesando imágenes:  17%|██████████▏                                                 | 38/224 [02:14<11:17,  3.64s/it]"
     ]
    },
    {
     "name": "stdout",
     "output_type": "stream",
     "text": [
      "Error procesando C:\\Users\\Mafe Valenzuela\\Documents\\Cps\\01\\FOSCAL\\F-PP-0061/20200910_131103/F-PP-0061_26.jpg: bezier_curve() got an unexpected keyword argument 'num_points'\n"
     ]
    },
    {
     "name": "stderr",
     "output_type": "stream",
     "text": [
      "Procesando imágenes:  17%|██████████▍                                                 | 39/224 [02:18<11:19,  3.67s/it]"
     ]
    },
    {
     "name": "stdout",
     "output_type": "stream",
     "text": [
      "Error procesando C:\\Users\\Mafe Valenzuela\\Documents\\Cps\\01\\FOSCAL\\F-PP-0062/20200917_114607/F-PP-0062_24.jpg: bezier_curve() got an unexpected keyword argument 'num_points'\n"
     ]
    },
    {
     "name": "stderr",
     "output_type": "stream",
     "text": [
      "Procesando imágenes:  18%|██████████▋                                                 | 40/224 [02:22<11:16,  3.67s/it]"
     ]
    },
    {
     "name": "stdout",
     "output_type": "stream",
     "text": [
      "Error procesando C:\\Users\\Mafe Valenzuela\\Documents\\Cps\\01\\FOSCAL\\F-PP-0063/20200917_121800/F-PP-0063_22.jpg: bezier_curve() got an unexpected keyword argument 'num_points'\n"
     ]
    },
    {
     "name": "stderr",
     "output_type": "stream",
     "text": [
      "Procesando imágenes:  18%|██████████▉                                                 | 41/224 [02:26<11:13,  3.68s/it]"
     ]
    },
    {
     "name": "stdout",
     "output_type": "stream",
     "text": [
      "Error procesando C:\\Users\\Mafe Valenzuela\\Documents\\Cps\\01\\FOSCAL\\F-PP-0064/20200917_124659/F-PP-0064_26.jpg: bezier_curve() got an unexpected keyword argument 'num_points'\n"
     ]
    },
    {
     "name": "stderr",
     "output_type": "stream",
     "text": [
      "Procesando imágenes:  19%|███████████▎                                                | 42/224 [02:29<11:03,  3.64s/it]"
     ]
    },
    {
     "name": "stdout",
     "output_type": "stream",
     "text": [
      "Error procesando C:\\Users\\Mafe Valenzuela\\Documents\\Cps\\01\\FOSCAL\\F-PP-0065/20200919_092342/F-PP-0065_34.jpg: bezier_curve() got an unexpected keyword argument 'num_points'\n"
     ]
    }
   ],
   "source": [
    "import os\n",
    "import pandas as pd\n",
    "import cv2\n",
    "from tqdm import tqdm  # barra de progreso\n",
    "\n",
    "# Ruta base de imágenes y Excel\n",
    "ruta_base = r\"C:\\Users\\Mafe Valenzuela\\Documents\\Cps\\01\"\n",
    "ruta_excel = r\"C:\\Users\\Mafe Valenzuela\\Documents\\Cps\\01\\report.xlsx\"\n",
    "\n",
    "# Carpetas de salida\n",
    "output_folder_pre = os.path.join(ruta_base, \"imagenes_preprocesadas\")\n",
    "output_folder_seg = os.path.join(ruta_base, \"imagenes_segmentadas\")\n",
    "os.makedirs(output_folder_pre, exist_ok=True)\n",
    "os.makedirs(output_folder_seg, exist_ok=True)\n",
    "\n",
    "# Leer Excel y filtrar categoría 3\n",
    "df = pd.read_excel(ruta_excel)\n",
    "df_cat3 = df[df[\"category\"] == 3]\n",
    "\n",
    "# Lista para guardar coordenadas\n",
    "callipers_data = []\n",
    "\n",
    "# Procesar cada imagen de categoría 3\n",
    "for _, row in tqdm(df_cat3.iterrows(), total=len(df_cat3), desc=\"Procesando imágenes\"):\n",
    "    # Construir ruta completa\n",
    "    image_path = os.path.join(ruta_base, row[\"medical_center\"], row[\"path\"])\n",
    "    \n",
    "    if not os.path.exists(image_path):\n",
    "        print(f\"No encontrada: {image_path}\")\n",
    "        continue\n",
    "    \n",
    "    try:\n",
    "        # Obtener calipers y FOV\n",
    "        cm, p1, p2, f1 = usDcallipers(image_path)\n",
    "        \n",
    "        # Preprocesar imagen\n",
    "        g, am, bm, p1, p2 = usPreprocess(image_path)\n",
    "        \n",
    "        # Segmentar usando cm, p1 y p2\n",
    "        seg = usSeg(cm * 255, p1, p2)  # cm multiplicado por 255 para que sea binario válido\n",
    "        \n",
    "        # Guardar imagen preprocesada\n",
    "        filename = os.path.basename(image_path)\n",
    "        cv2.imwrite(os.path.join(output_folder_pre, filename), g)\n",
    "        \n",
    "        # Guardar imagen segmentada\n",
    "        seg_path = os.path.join(output_folder_seg, filename)\n",
    "        cv2.imwrite(seg_path, seg * 255)  # escala binaria a 0-255\n",
    "        \n",
    "        # Guardar coordenadas\n",
    "        callipers_data.append({\n",
    "            \"imagen\": filename,\n",
    "            \"p1_x\": p1[0], \"p1_y\": p1[1],\n",
    "            \"p2_x\": p2[0], \"p2_y\": p2[1]\n",
    "        })\n",
    "    except Exception as e:\n",
    "        print(f\"Error procesando {image_path}: {e}\")\n",
    "\n",
    "# Guardar coordenadas en CSV\n",
    "df_coords = pd.DataFrame(callipers_data)\n",
    "df_coords.to_csv(os.path.join(ruta_base, \"callipers_positions.csv\"), index=False)\n",
    "\n",
    "print(\"Procesamiento completado.\")\n"
   ]
  },
  {
   "cell_type": "code",
   "execution_count": null,
   "id": "efa34bc7-baa4-4215-8988-cd0bac7a5577",
   "metadata": {},
   "outputs": [],
   "source": []
  },
  {
   "cell_type": "code",
   "execution_count": null,
   "id": "cbe9fe85-8e0d-4c87-99cc-c3fcff022ceb",
   "metadata": {},
   "outputs": [],
   "source": []
  }
 ],
 "metadata": {
  "kernelspec": {
   "display_name": "Python 3 (ipykernel)",
   "language": "python",
   "name": "python3"
  },
  "language_info": {
   "codemirror_mode": {
    "name": "ipython",
    "version": 3
   },
   "file_extension": ".py",
   "mimetype": "text/x-python",
   "name": "python",
   "nbconvert_exporter": "python",
   "pygments_lexer": "ipython3",
   "version": "3.12.7"
  }
 },
 "nbformat": 4,
 "nbformat_minor": 5
}
